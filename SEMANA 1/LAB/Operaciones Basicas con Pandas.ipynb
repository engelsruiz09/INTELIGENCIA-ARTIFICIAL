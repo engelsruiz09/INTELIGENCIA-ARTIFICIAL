{
 "cells": [
  {
   "cell_type": "markdown",
   "id": "02f036ae-22c0-4b92-9aae-020740c04676",
   "metadata": {},
   "source": [
    "# **Operaciones Básicas con Pandas**\n",
    "\n",
    "Cargar librerías"
   ]
  },
  {
   "cell_type": "code",
   "execution_count": 9,
   "id": "ff82969c-40d5-4576-8b5e-20f67d13f6a9",
   "metadata": {},
   "outputs": [],
   "source": [
    "import pandas as pd\n",
    "import numpy as np\n",
    "import requests\n",
    "import sqlite3"
   ]
  },
  {
   "cell_type": "markdown",
   "id": "35b0a3e8-ffb7-49d4-9cf2-e8d3fcf69a82",
   "metadata": {},
   "source": [
    "## **Sección 1: Trabajando con un archivo CSV**\n",
    "Cargar un archivo CSV"
   ]
  },
  {
   "cell_type": "code",
   "execution_count": 10,
   "id": "e6e51648-1453-4b8d-a5d9-b400b156520c",
   "metadata": {},
   "outputs": [
    {
     "name": "stdout",
     "output_type": "stream",
     "text": [
      "Cargando datos desde un archivo CSV...\n",
      "  show_id     type                  title         director  \\\n",
      "0      s1    Movie   Dick Johnson Is Dead  Kirsten Johnson   \n",
      "1      s2  TV Show          Blood & Water              NaN   \n",
      "2      s3  TV Show              Ganglands  Julien Leclercq   \n",
      "3      s4  TV Show  Jailbirds New Orleans              NaN   \n",
      "4      s5  TV Show           Kota Factory              NaN   \n",
      "\n",
      "                                                cast        country  \\\n",
      "0                                                NaN  United States   \n",
      "1  Ama Qamata, Khosi Ngema, Gail Mabalane, Thaban...   South Africa   \n",
      "2  Sami Bouajila, Tracy Gotoas, Samuel Jouy, Nabi...            NaN   \n",
      "3                                                NaN            NaN   \n",
      "4  Mayur More, Jitendra Kumar, Ranjan Raj, Alam K...          India   \n",
      "\n",
      "           date_added  release_year rating   duration  \\\n",
      "0  September 25, 2021          2020  PG-13     90 min   \n",
      "1  September 24, 2021          2021  TV-MA  2 Seasons   \n",
      "2  September 24, 2021          2021  TV-MA   1 Season   \n",
      "3  September 24, 2021          2021  TV-MA   1 Season   \n",
      "4  September 24, 2021          2021  TV-MA  2 Seasons   \n",
      "\n",
      "                                           listed_in  \\\n",
      "0                                      Documentaries   \n",
      "1    International TV Shows, TV Dramas, TV Mysteries   \n",
      "2  Crime TV Shows, International TV Shows, TV Act...   \n",
      "3                             Docuseries, Reality TV   \n",
      "4  International TV Shows, Romantic TV Shows, TV ...   \n",
      "\n",
      "                                         description  \n",
      "0  As her father nears the end of his life, filmm...  \n",
      "1  After crossing paths at a party, a Cape Town t...  \n",
      "2  To protect his family from a powerful drug lor...  \n",
      "3  Feuds, flirtations and toilet talk go down amo...  \n",
      "4  In a city of coaching centers known to train I...  \n"
     ]
    }
   ],
   "source": [
    "print(\"Cargando datos desde un archivo CSV...\")\n",
    "df_csv = pd.read_csv('netflix_titles.csv')  # Asegúrate de que el archivo exista en la misma ruta o proporciona la ruta completa.\n",
    "print(df_csv.head())  # Mostrando las primeras 5 filas del DataFrame"
   ]
  },
  {
   "cell_type": "markdown",
   "id": "27a858f8-8eea-4aa5-84dc-05d293015340",
   "metadata": {},
   "source": [
    "## Operaciones básicas"
   ]
  },
  {
   "cell_type": "code",
   "execution_count": 17,
   "id": "549b7be4-419b-4d85-b2a4-bd25df9ab8ff",
   "metadata": {},
   "outputs": [
    {
     "name": "stdout",
     "output_type": "stream",
     "text": [
      "Operaciones básicas con el archivo CSV:\n",
      "Número de filas y columnas: (8807, 12)\n",
      "Estadísticas descriptivas: \n",
      "       release_year\n",
      "count   8807.000000\n",
      "mean    2014.180198\n",
      "std        8.819312\n",
      "min     1925.000000\n",
      "25%     2013.000000\n",
      "50%     2017.000000\n",
      "75%     2019.000000\n",
      "max     2021.000000\n",
      "Valores nulos por columna: \n",
      "show_id            0\n",
      "type               0\n",
      "title              0\n",
      "director        2634\n",
      "cast             825\n",
      "country          831\n",
      "date_added        10\n",
      "release_year       0\n",
      "rating             4\n",
      "duration           3\n",
      "listed_in          0\n",
      "description        0\n",
      "dtype: int64\n"
     ]
    }
   ],
   "source": [
    "print(\"Operaciones básicas con el archivo CSV:\")\n",
    "print(f\"Número de filas y columnas: {df_csv.shape}\")\n",
    "print(f\"Estadísticas descriptivas: \\n{df_csv.describe()}\")\n",
    "print(f\"Valores nulos por columna: \\n{df_csv.isnull().sum()}\")"
   ]
  },
  {
   "cell_type": "markdown",
   "id": "33683ff7-230e-45ca-9f85-c691ebcd8787",
   "metadata": {},
   "source": [
    "## **Sección 2: Trabajando con una API**\n",
    "Consultar datos desde una API"
   ]
  },
  {
   "cell_type": "code",
   "execution_count": 13,
   "id": "00a6e228-2930-4956-b13b-a3c48684576d",
   "metadata": {},
   "outputs": [
    {
     "name": "stdout",
     "output_type": "stream",
     "text": [
      "\n",
      "Consultando datos desde una API...\n",
      "   userId  id                                              title  \\\n",
      "0       1   1  sunt aut facere repellat provident occaecati e...   \n",
      "1       1   2                                       qui est esse   \n",
      "2       1   3  ea molestias quasi exercitationem repellat qui...   \n",
      "3       1   4                               eum et est occaecati   \n",
      "4       1   5                                 nesciunt quas odio   \n",
      "\n",
      "                                                body  \n",
      "0  quia et suscipit\\nsuscipit recusandae consequu...  \n",
      "1  est rerum tempore vitae\\nsequi sint nihil repr...  \n",
      "2  et iusto sed quo iure\\nvoluptatem occaecati om...  \n",
      "3  ullam et saepe reiciendis voluptatem adipisci\\...  \n",
      "4  repudiandae veniam quaerat sunt sed\\nalias aut...  \n"
     ]
    }
   ],
   "source": [
    "print(\"Consultando datos desde una API...\")\n",
    "url = \"https://jsonplaceholder.typicode.com/posts\"\n",
    "response = requests.get(url)\n",
    "data = response.json()\n",
    "df_api = pd.DataFrame(data)\n",
    "print(df_api.head()) "
   ]
  },
  {
   "cell_type": "markdown",
   "id": "7eadb38c-b1b8-4342-8976-1317bb74259f",
   "metadata": {},
   "source": [
    "## Operaciones básicas"
   ]
  },
  {
   "cell_type": "code",
   "execution_count": 18,
   "id": "971da7b9-ac31-4f39-a671-0e83ebb55432",
   "metadata": {},
   "outputs": [
    {
     "name": "stdout",
     "output_type": "stream",
     "text": [
      "Operaciones básicas con datos de la API:\n",
      "Número de filas y columnas: (100, 4)\n",
      "Primeros 3 valores de la columna 'title': \n",
      "0    sunt aut facere repellat provident occaecati e...\n",
      "1                                         qui est esse\n",
      "2    ea molestias quasi exercitationem repellat qui...\n",
      "Name: title, dtype: object\n",
      "Conteo de palabras en la columna 'body': \n",
      "0    23\n",
      "1    31\n",
      "2    26\n",
      "3    28\n",
      "4    23\n",
      "Name: body, dtype: int64\n"
     ]
    }
   ],
   "source": [
    "print(\"Operaciones básicas con datos de la API:\")\n",
    "print(f\"Número de filas y columnas: {df_api.shape}\")\n",
    "print(f\"Primeros 3 valores de la columna 'title': \\n{df_api['title'].head(3)}\")\n",
    "print(f\"Conteo de palabras en la columna 'body': \\n{df_api['body'].apply(lambda x: len(x.split())).head(5)}\")"
   ]
  },
  {
   "cell_type": "markdown",
   "id": "46cc9e38-f172-47f7-b12e-74d7213144a6",
   "metadata": {},
   "source": [
    "## **Sección 3: Trabajando con una base de datos**\n",
    "Conectar a una base de datos SQLite (base de datos local para simplicidad)"
   ]
  },
  {
   "cell_type": "code",
   "execution_count": 19,
   "id": "0afd0c82-4117-4577-8ad0-ee7a2cc013ab",
   "metadata": {},
   "outputs": [
    {
     "name": "stdout",
     "output_type": "stream",
     "text": [
      "\n",
      "Consultando datos desde una base de datos SQLite...\n"
     ]
    }
   ],
   "source": [
    "print(\"Consultando datos desde una base de datos SQLite...\")\n",
    "connection = sqlite3.connect('sample_database.db')\n",
    "cursor = connection.cursor()"
   ]
  },
  {
   "cell_type": "markdown",
   "id": "20edfb6f-51f7-4c2c-b872-b4509b17874f",
   "metadata": {},
   "source": [
    "### Crear una tabla y agregar datos (si no existe)"
   ]
  },
  {
   "cell_type": "code",
   "execution_count": 20,
   "id": "b1d608ac-f2ea-469d-8e9d-7c461b299c4e",
   "metadata": {},
   "outputs": [
    {
     "data": {
      "text/plain": [
       "<sqlite3.Cursor at 0x16a152640>"
      ]
     },
     "execution_count": 20,
     "metadata": {},
     "output_type": "execute_result"
    }
   ],
   "source": [
    "cursor.execute(\"\"\"\n",
    "CREATE TABLE IF NOT EXISTS users (\n",
    "    id INTEGER PRIMARY KEY,\n",
    "    name TEXT,\n",
    "    age INTEGER,\n",
    "    email TEXT\n",
    ");\n",
    "\"\"\")"
   ]
  },
  {
   "cell_type": "markdown",
   "id": "61175b6c-7199-440a-8880-e028942fa258",
   "metadata": {},
   "source": [
    "### Insertar datos de ejemplo"
   ]
  },
  {
   "cell_type": "code",
   "execution_count": 22,
   "id": "d6a8fe58-d665-4fb7-a96a-b905378830b8",
   "metadata": {},
   "outputs": [],
   "source": [
    "cursor.executemany(\"INSERT INTO users (name, age, email) VALUES (?, ?, ?);\", [\n",
    "    ('Alice', 30, 'alice@example.com'),\n",
    "    ('Bob', 25, 'bob@example.com'),\n",
    "    ('Charlie', 35, 'charlie@example.com')\n",
    "])\n",
    "connection.commit()"
   ]
  },
  {
   "cell_type": "markdown",
   "id": "f444259f-ce29-4313-925d-5948870fba1b",
   "metadata": {},
   "source": [
    "### Leer datos de la base de datos"
   ]
  },
  {
   "cell_type": "code",
   "execution_count": 23,
   "id": "2af5c538-3b11-44f2-a253-f69b51a407a9",
   "metadata": {},
   "outputs": [
    {
     "name": "stdout",
     "output_type": "stream",
     "text": [
      "   id     name  age                email\n",
      "0   1    Alice   30    alice@example.com\n",
      "1   2      Bob   25      bob@example.com\n",
      "2   3  Charlie   35  charlie@example.com\n"
     ]
    }
   ],
   "source": [
    "query = \"SELECT * FROM users\"\n",
    "df_db = pd.read_sql_query(query, connection)\n",
    "print(df_db.head())  # Mostrando las primeras 5 filas del DataFrame"
   ]
  },
  {
   "cell_type": "markdown",
   "id": "d217ef7d-ea36-419a-9fc7-389538aa1336",
   "metadata": {},
   "source": [
    "## Operaciones básicas"
   ]
  },
  {
   "cell_type": "code",
   "execution_count": 24,
   "id": "8ce05e8a-27b9-4789-863d-29083bec80c7",
   "metadata": {},
   "outputs": [
    {
     "name": "stdout",
     "output_type": "stream",
     "text": [
      "Operaciones básicas con datos de la base de datos:\n",
      "Número de filas y columnas: (3, 4)\n",
      "Promedio de edad: 30.0\n",
      "Usuarios mayores de 30 años: \n",
      "   id     name  age                email\n",
      "2   3  Charlie   35  charlie@example.com\n"
     ]
    }
   ],
   "source": [
    "print(\"Operaciones básicas con datos de la base de datos:\")\n",
    "print(f\"Número de filas y columnas: {df_db.shape}\")\n",
    "print(f\"Promedio de edad: {df_db['age'].mean()}\")\n",
    "print(f\"Usuarios mayores de 30 años: \\n{df_db[df_db['age'] > 30]}\")"
   ]
  },
  {
   "cell_type": "markdown",
   "id": "277ec702-e8ba-4646-a061-38d356621bf6",
   "metadata": {},
   "source": [
    "### Cerrar conexión con la base de datos"
   ]
  },
  {
   "cell_type": "code",
   "execution_count": 26,
   "id": "461d67a8-3042-4e75-b660-8e624b686687",
   "metadata": {},
   "outputs": [],
   "source": [
    "connection.close()"
   ]
  },
  {
   "cell_type": "markdown",
   "id": "67cee103-6277-4d23-bedc-3bd692f23881",
   "metadata": {},
   "source": [
    "## Otras Operaciones\n",
    "### Ordenar por la longitud del título"
   ]
  },
  {
   "cell_type": "code",
   "execution_count": 27,
   "id": "7548ad50-ace0-4283-b5f3-c8b322408889",
   "metadata": {},
   "outputs": [
    {
     "name": "stdout",
     "output_type": "stream",
     "text": [
      "Datos ordenados por la longitud del título:\n",
      "                                                title  title_length\n",
      "49  repellendus qui recusandae incidunt voluptates...            79\n",
      "42  eligendi iste nostrum consequuntur adipisci pr...            78\n",
      "83  optio ipsam molestias necessitatibus occaecati...            76\n",
      "59  consequatur placeat omnis quisquam quia repreh...            76\n",
      "0   sunt aut facere repellat provident occaecati e...            74\n"
     ]
    }
   ],
   "source": [
    "df_api['title_length'] = df_api['title'].apply(len) # creando una nueva columna llamada title_length\n",
    "sorted_df = df_api.sort_values(by='title_length', ascending=False) # crear un nuevo dataFrame con los datos ordenados por longitud\n",
    "print(\"Datos ordenados por la longitud del título:\")\n",
    "print(sorted_df[['title', 'title_length']].head())"
   ]
  },
  {
   "cell_type": "markdown",
   "id": "199dc088-3251-44a0-afb5-97af7b96b091",
   "metadata": {},
   "source": [
    "### Filtrar registros donde el 'userId' sea mayor a 5"
   ]
  },
  {
   "cell_type": "code",
   "execution_count": 28,
   "id": "bd66b1e2-21bf-4d22-a68c-4c967cfa852e",
   "metadata": {},
   "outputs": [
    {
     "name": "stdout",
     "output_type": "stream",
     "text": [
      "Registros con userId mayor a 5:\n",
      "    userId  id                                              title  \\\n",
      "50       6  51  soluta aliquam aperiam consequatur illo quis v...   \n",
      "51       6  52  qui enim et consequuntur quia animi quis volup...   \n",
      "52       6  53                           ut quo aut ducimus alias   \n",
      "53       6  54         sit asperiores ipsam eveniet odio non quia   \n",
      "54       6  55                   sit vel voluptatem et non libero   \n",
      "\n",
      "                                                 body  title_length  \n",
      "50  sunt dolores aut doloribus\\ndolore doloribus v...            53  \n",
      "51  iusto est quibusdam fuga quas quaerat molestia...            60  \n",
      "52  minima harum praesentium eum rerum illo dolore...            24  \n",
      "53  totam corporis dignissimos\\nvitae dolorem ut o...            42  \n",
      "54  debitis excepturi ea perferendis harum libero ...            32  \n"
     ]
    }
   ],
   "source": [
    "filtered_df = df_api[df_api['userId'] > 5]\n",
    "print(\"Registros con userId mayor a 5:\")\n",
    "print(filtered_df.head())"
   ]
  },
  {
   "cell_type": "markdown",
   "id": "c200e36b-c542-45f7-a340-cc5d3177bb71",
   "metadata": {},
   "source": [
    "### Contar el número de publicaciones por usuario"
   ]
  },
  {
   "cell_type": "code",
   "execution_count": 29,
   "id": "4cf0227f-92f2-44bc-8d27-6ba7f5b1114a",
   "metadata": {},
   "outputs": [
    {
     "name": "stdout",
     "output_type": "stream",
     "text": [
      "Número de publicaciones por usuario:\n",
      "userId\n",
      "1     10\n",
      "2     10\n",
      "3     10\n",
      "4     10\n",
      "5     10\n",
      "6     10\n",
      "7     10\n",
      "8     10\n",
      "9     10\n",
      "10    10\n",
      "dtype: int64\n"
     ]
    }
   ],
   "source": [
    "grouped = df_api.groupby('userId').size() # agrupar por userId y contar para obtener numero de publicaciones por usuario\n",
    "print(\"Número de publicaciones por usuario:\")\n",
    "print(grouped)"
   ]
  },
  {
   "cell_type": "markdown",
   "id": "8771221d-fb98-40c4-a36f-c32fd5efd55d",
   "metadata": {},
   "source": [
    "### Agregar una columna que indique si el título contiene más de 5 palabras"
   ]
  },
  {
   "cell_type": "code",
   "execution_count": 30,
   "id": "d939d961-23b2-4372-89db-978116a98381",
   "metadata": {},
   "outputs": [
    {
     "name": "stdout",
     "output_type": "stream",
     "text": [
      "DataFrame con columna adicional 'long_title':\n",
      "                                               title  long_title\n",
      "0  sunt aut facere repellat provident occaecati e...        True\n",
      "1                                       qui est esse       False\n",
      "2  ea molestias quasi exercitationem repellat qui...        True\n",
      "3                               eum et est occaecati       False\n",
      "4                                 nesciunt quas odio       False\n"
     ]
    }
   ],
   "source": [
    "df_api['long_title'] = df_api['title'].apply(lambda x: len(x.split()) > 5)\n",
    "print(\"DataFrame con columna adicional 'long_title':\")\n",
    "print(df_api[['title', 'long_title']].head())"
   ]
  },
  {
   "cell_type": "markdown",
   "id": "6e07cae7-0e04-40f0-97df-488ee6d95c49",
   "metadata": {},
   "source": [
    "### Verificar datos faltantes en todo el DataFrame"
   ]
  },
  {
   "cell_type": "code",
   "execution_count": 31,
   "id": "00b4d927-52a0-48f4-a89b-a901904243ad",
   "metadata": {},
   "outputs": [
    {
     "name": "stdout",
     "output_type": "stream",
     "text": [
      "Datos faltantes por columna:\n",
      "userId          0\n",
      "id              0\n",
      "title           0\n",
      "body            0\n",
      "title_length    0\n",
      "long_title      0\n",
      "dtype: int64\n"
     ]
    }
   ],
   "source": [
    "missing_data = df_api.isnull().sum()\n",
    "print(\"Datos faltantes por columna:\")\n",
    "print(missing_data)"
   ]
  },
  {
   "cell_type": "markdown",
   "id": "59db1021-fd8d-477f-8bf2-e33fb1dcf29e",
   "metadata": {},
   "source": [
    "### Convertir los títulos a mayúsculas"
   ]
  },
  {
   "cell_type": "code",
   "execution_count": 32,
   "id": "e283e015-9047-40fb-8446-e34e399591dd",
   "metadata": {},
   "outputs": [
    {
     "name": "stdout",
     "output_type": "stream",
     "text": [
      "Títulos convertidos a mayúsculas:\n",
      "                                               title  \\\n",
      "0  sunt aut facere repellat provident occaecati e...   \n",
      "1                                       qui est esse   \n",
      "2  ea molestias quasi exercitationem repellat qui...   \n",
      "3                               eum et est occaecati   \n",
      "4                                 nesciunt quas odio   \n",
      "\n",
      "                                         title_upper  \n",
      "0  SUNT AUT FACERE REPELLAT PROVIDENT OCCAECATI E...  \n",
      "1                                       QUI EST ESSE  \n",
      "2  EA MOLESTIAS QUASI EXERCITATIONEM REPELLAT QUI...  \n",
      "3                               EUM ET EST OCCAECATI  \n",
      "4                                 NESCIUNT QUAS ODIO  \n"
     ]
    }
   ],
   "source": [
    "df_api['title_upper'] = df_api['title'].apply(lambda x: x.upper())\n",
    "print(\"Títulos convertidos a mayúsculas:\")\n",
    "print(df_api[['title', 'title_upper']].head())"
   ]
  },
  {
   "cell_type": "markdown",
   "id": "a4611940-fc10-4ea9-b454-6567fb22a760",
   "metadata": {},
   "source": [
    "### Estadísticas sobre el conteo de palabras en 'body'"
   ]
  },
  {
   "cell_type": "code",
   "execution_count": 33,
   "id": "c29497aa-9bca-42b6-b62c-dfab09ab5f9d",
   "metadata": {},
   "outputs": [
    {
     "name": "stdout",
     "output_type": "stream",
     "text": [
      "Estadísticas descriptivas sobre el conteo de palabras en 'body':\n",
      "count    100.000000\n",
      "mean      23.850000\n",
      "std        3.849111\n",
      "min       16.000000\n",
      "25%       21.000000\n",
      "50%       24.000000\n",
      "75%       26.250000\n",
      "max       32.000000\n",
      "Name: body, dtype: float64\n"
     ]
    }
   ],
   "source": [
    "word_counts = df_api['body'].apply(lambda x: len(x.split()))\n",
    "print(\"Estadísticas descriptivas sobre el conteo de palabras en 'body':\")\n",
    "print(word_counts.describe())"
   ]
  },
  {
   "cell_type": "markdown",
   "id": "4a3eb2b9-3496-4286-934a-539f9069e942",
   "metadata": {},
   "source": [
    "### Eliminar la columna 'title_upper'"
   ]
  },
  {
   "cell_type": "code",
   "execution_count": 34,
   "id": "2a2a23ce-9a2d-464b-9dcb-c5d1c7a09d8d",
   "metadata": {},
   "outputs": [
    {
     "name": "stdout",
     "output_type": "stream",
     "text": [
      "DataFrame después de eliminar la columna 'title_upper':\n",
      "   userId  id                                              title  \\\n",
      "0       1   1  sunt aut facere repellat provident occaecati e...   \n",
      "1       1   2                                       qui est esse   \n",
      "2       1   3  ea molestias quasi exercitationem repellat qui...   \n",
      "3       1   4                               eum et est occaecati   \n",
      "4       1   5                                 nesciunt quas odio   \n",
      "\n",
      "                                                body  title_length  long_title  \n",
      "0  quia et suscipit\\nsuscipit recusandae consequu...            74        True  \n",
      "1  est rerum tempore vitae\\nsequi sint nihil repr...            12       False  \n",
      "2  et iusto sed quo iure\\nvoluptatem occaecati om...            59        True  \n",
      "3  ullam et saepe reiciendis voluptatem adipisci\\...            20       False  \n",
      "4  repudiandae veniam quaerat sunt sed\\nalias aut...            18       False  \n"
     ]
    }
   ],
   "source": [
    "df_api_cleaned = df_api.drop(columns=['title_upper'])\n",
    "print(\"DataFrame después de eliminar la columna 'title_upper':\")\n",
    "print(df_api_cleaned.head())"
   ]
  },
  {
   "cell_type": "markdown",
   "id": "3bfc0a84-5adb-4664-86b5-436107a9dd78",
   "metadata": {},
   "source": [
    "### Renombrar la columna 'body' a 'content'"
   ]
  },
  {
   "cell_type": "code",
   "execution_count": 35,
   "id": "70bb5b70-5696-4e07-b143-7cb132854d62",
   "metadata": {},
   "outputs": [
    {
     "name": "stdout",
     "output_type": "stream",
     "text": [
      "DataFrame con columna renombrada:\n",
      "   userId  id                                              title  \\\n",
      "0       1   1  sunt aut facere repellat provident occaecati e...   \n",
      "1       1   2                                       qui est esse   \n",
      "2       1   3  ea molestias quasi exercitationem repellat qui...   \n",
      "3       1   4                               eum et est occaecati   \n",
      "4       1   5                                 nesciunt quas odio   \n",
      "\n",
      "                                             content  title_length  \\\n",
      "0  quia et suscipit\\nsuscipit recusandae consequu...            74   \n",
      "1  est rerum tempore vitae\\nsequi sint nihil repr...            12   \n",
      "2  et iusto sed quo iure\\nvoluptatem occaecati om...            59   \n",
      "3  ullam et saepe reiciendis voluptatem adipisci\\...            20   \n",
      "4  repudiandae veniam quaerat sunt sed\\nalias aut...            18   \n",
      "\n",
      "   long_title                                        title_upper  \n",
      "0        True  SUNT AUT FACERE REPELLAT PROVIDENT OCCAECATI E...  \n",
      "1       False                                       QUI EST ESSE  \n",
      "2        True  EA MOLESTIAS QUASI EXERCITATIONEM REPELLAT QUI...  \n",
      "3       False                               EUM ET EST OCCAECATI  \n",
      "4       False                                 NESCIUNT QUAS ODIO  \n"
     ]
    }
   ],
   "source": [
    "renamed_df = df_api.rename(columns={'body': 'content'})\n",
    "print(\"DataFrame con columna renombrada:\")\n",
    "print(renamed_df.head())"
   ]
  },
  {
   "cell_type": "markdown",
   "id": "815538c8-c18f-4132-b098-dfe76cf8f298",
   "metadata": {},
   "source": [
    "### Crear un pivot table simulando datos categóricos (requiere ajustes según tus datos reales)"
   ]
  },
  {
   "cell_type": "code",
   "execution_count": 36,
   "id": "d63d5204-120f-46b3-ac1f-ac16800c2b61",
   "metadata": {},
   "outputs": [
    {
     "name": "stdout",
     "output_type": "stream",
     "text": [
      "Tabla pivot con el conteo de publicaciones por usuario:\n",
      "        id\n",
      "userId    \n",
      "1       10\n",
      "2       10\n",
      "3       10\n",
      "4       10\n",
      "5       10\n",
      "6       10\n",
      "7       10\n",
      "8       10\n",
      "9       10\n",
      "10      10\n"
     ]
    }
   ],
   "source": [
    "pivot_table = df_api.pivot_table(values='id', index='userId', aggfunc='count')\n",
    "print(\"Tabla pivot con el conteo de publicaciones por usuario:\")\n",
    "print(pivot_table)"
   ]
  },
  {
   "cell_type": "code",
   "execution_count": null,
   "id": "9f8f1799-11e8-4b5b-a395-cfdf2bb3f5d9",
   "metadata": {},
   "outputs": [],
   "source": []
  }
 ],
 "metadata": {
  "kernelspec": {
   "display_name": "Python 3 (ipykernel)",
   "language": "python",
   "name": "python3"
  },
  "language_info": {
   "codemirror_mode": {
    "name": "ipython",
    "version": 3
   },
   "file_extension": ".py",
   "mimetype": "text/x-python",
   "name": "python",
   "nbconvert_exporter": "python",
   "pygments_lexer": "ipython3",
   "version": "3.12.7"
  }
 },
 "nbformat": 4,
 "nbformat_minor": 5
}
